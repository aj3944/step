{
 "cells": [
  {
   "cell_type": "code",
   "execution_count": 1,
   "metadata": {},
   "outputs": [
    {
     "ename": "ModuleNotFoundError",
     "evalue": "No module named 'pinocchio'",
     "output_type": "error",
     "traceback": [
      "\u001b[0;31m---------------------------------------------------------------------------\u001b[0m",
      "\u001b[0;31mModuleNotFoundError\u001b[0m                       Traceback (most recent call last)",
      "Cell \u001b[0;32mIn[1], line 1\u001b[0m\n\u001b[0;32m----> 1\u001b[0m \u001b[38;5;28;01mimport\u001b[39;00m \u001b[38;5;21;01mpinocchio\u001b[39;00m\n\u001b[1;32m      2\u001b[0m \u001b[38;5;28;01mfrom\u001b[39;00m \u001b[38;5;21;01msys\u001b[39;00m \u001b[38;5;28;01mimport\u001b[39;00m argv\n\u001b[1;32m      3\u001b[0m \u001b[38;5;28;01mfrom\u001b[39;00m \u001b[38;5;21;01mos\u001b[39;00m\u001b[38;5;21;01m.\u001b[39;00m\u001b[38;5;21;01mpath\u001b[39;00m \u001b[38;5;28;01mimport\u001b[39;00m dirname, join, abspath\n",
      "\u001b[0;31mModuleNotFoundError\u001b[0m: No module named 'pinocchio'"
     ]
    }
   ],
   "source": [
    "import pinocchio\n",
    "from sys import argv\n",
    "from os.path import dirname, join, abspath\n",
    "from numpy.linalg import norm,solve\n",
    "import numpy as np\n",
    "import os\n",
    " \n",
    "\n",
    "urdf_filename = \"/home/adi/hum_rob_ws/src/six_dof/urdf/6dof_from_hip.urdf\"\n",
    "mesh_dir = \"/home/adi/hum_rob_ws/src/six_dof/meshes\"\n",
    "\n",
    "ros_package_path = \"/home/adi/hum_rob_ws/src\"  # Replace with your path\n",
    "os.environ[\"ROS_PACKAGE_PATH\"] = ros_package_path\n",
    "\n",
    "# Load the urdf model\n",
    "model    = pinocchio.buildModelFromUrdf(urdf_filename)\n",
    "print('model name: ' + model.name)\n",
    " \n",
    "# Create data required by the algorithms\n",
    "data     = model.createData()\n",
    "visual_model = pinocchio.buildGeomFromUrdf(\n",
    "    model, urdf_filename, pinocchio.GeometryType.VISUAL, package_dirs=mesh_dir\n",
    ") \n",
    "\n",
    "collision_model = pinocchio.buildGeomFromUrdf(\n",
    "    model, urdf_filename, pinocchio.GeometryType.COLLISION, package_dirs=mesh_dir\n",
    ") "
   ]
  },
  {
   "cell_type": "code",
   "execution_count": 2,
   "metadata": {},
   "outputs": [
    {
     "name": "stdout",
     "output_type": "stream",
     "text": [
      "You can open the visualizer by visiting the following URL:\n",
      "http://127.0.0.1:7000/static/\n"
     ]
    }
   ],
   "source": [
    "\n",
    "visualiser=pinocchio.visualize.MeshcatVisualizer(model,collision_model,visual_model)\n",
    "visualiser.initViewer()\n",
    "visualiser.loadViewerModel()"
   ]
  },
  {
   "cell_type": "code",
   "execution_count": 11,
   "metadata": {},
   "outputs": [],
   "source": [
    "q = pinocchio.neutral(model)\n",
    "\n",
    "q[6]=0.5\n",
    "visualiser.display(q)\n"
   ]
  },
  {
   "cell_type": "code",
   "execution_count": 4,
   "metadata": {},
   "outputs": [
    {
     "data": {
      "text/html": [
       "\n",
       "            <div style=\"height: 400px; width: 100%; overflow-x: auto; overflow-y: hidden; resize: both\">\n",
       "            <iframe src=\"http://127.0.0.1:7000/static/\" style=\"width: 100%; height: 100%; border: none\"></iframe>\n",
       "            </div>\n",
       "            "
      ],
      "text/plain": [
       "<IPython.core.display.HTML object>"
      ]
     },
     "execution_count": 4,
     "metadata": {},
     "output_type": "execute_result"
    }
   ],
   "source": [
    "\n",
    "visualiser.viewer.jupyter_cell()"
   ]
  },
  {
   "cell_type": "code",
   "execution_count": 5,
   "metadata": {},
   "outputs": [
    {
     "name": "stdout",
     "output_type": "stream",
     "text": [
      "universe                 :  0.000  0.000  0.000\n",
      "body_left_thigh_lateral  :  0.100  0.000  0.000\n",
      "body_left_thigh          :  0.100  0.000  0.000\n",
      "left_thigh_shin          :  0.142 -0.000 -0.160\n",
      "left_shin_foot           :  0.123 -0.000 -0.290\n",
      "right_body_thigh_lateral :  0.000  0.000  0.000\n",
      "right_body_thigh         :  0.041  0.000  0.000\n",
      "right_thigh_shin         :  0.044 -0.000 -0.160\n",
      "right_shin_foot          :  0.024 -0.000 -0.290\n",
      "  R =\n",
      "          1           0           0\n",
      "          0 0.000796327          -1\n",
      "          0           1 0.000796327\n",
      "  p =       0.0235 -0.000230935        -0.29\n",
      "\n"
     ]
    }
   ],
   "source": [
    "pinocchio.forwardKinematics(model,data,q)\n",
    " \n",
    "# Print out the placement of each joint of the kinematic tree\n",
    "for name, oMi in zip(model.names, data.oMi):\n",
    "    print((\"{:<24} : {: .3f} {: .3f} {: .3f}\"\n",
    "          .format( name, *oMi.translation.T.flat )))\n",
    "print(data.oMi[8])"
   ]
  },
  {
   "cell_type": "code",
   "execution_count": null,
   "metadata": {},
   "outputs": [],
   "source": [
    "\"\"\"\n",
    "joint ids are visible in the previous cell.\n",
    "\n",
    "for left thigh + angle is forward\n",
    "for left knee + angle is backward\n",
    "\n",
    "for right thigh + angle is backwards\n",
    "for right knee + ange is backward\n",
    "\n",
    "\n",
    "\n",
    "#LEFT THIGH +goes back\n",
    "#LEFT KNEE + goes back\n",
    "#RIGHT THIGH +goes forward\n",
    "#RIGHT KNEE + goes back\n",
    "\n",
    "\n",
    "MOTOR MAP\n",
    "left thigh -\n",
    "left knee +\n",
    "\n",
    "right thigh -\n",
    "\n",
    "right knee +\n",
    "\n",
    "\n",
    "joints of interest \n",
    "q[1]= left thigh\n",
    "q[2]= left knee\n",
    "q[5]= right thigh\n",
    "q[6] = right knee\n",
    "\n",
    "\n",
    "\"\"\""
   ]
  }
 ],
 "metadata": {
  "kernelspec": {
   "display_name": "Python 3 (ipykernel)",
   "language": "python",
   "name": "python3"
  },
  "language_info": {
   "codemirror_mode": {
    "name": "ipython",
    "version": 3
   },
   "file_extension": ".py",
   "mimetype": "text/x-python",
   "name": "python",
   "nbconvert_exporter": "python",
   "pygments_lexer": "ipython3",
   "version": "3.10.12"
  }
 },
 "nbformat": 4,
 "nbformat_minor": 2
}
